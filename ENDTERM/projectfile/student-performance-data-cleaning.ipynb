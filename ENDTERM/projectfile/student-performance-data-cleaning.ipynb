{
 "cells": [
  {
   "cell_type": "markdown",
   "metadata": {},
   "source": [
    "# ENDTERM Project Data Analysis <hr style=\"border:2.5px solid #126782\"></hr>"
   ]
  },
  {
   "cell_type": "markdown",
   "metadata": {},
   "source": [
    "Name: **Ely John C. Punzalan** <br>\n",
    "Course: **CPE2A**"
   ]
  },
  {
   "cell_type": "markdown",
   "metadata": {},
   "source": [
    "# Data Cleaning"
   ]
  },
  {
   "cell_type": "markdown",
   "metadata": {},
   "source": [
    "## Setting Up the Data File"
   ]
  },
  {
   "cell_type": "code",
   "execution_count": 1,
   "metadata": {},
   "outputs": [],
   "source": [
    "import pandas as pd\n",
    "import numpy as np\n",
    "import matplotlib.pyplot as plt"
   ]
  },
  {
   "cell_type": "code",
   "execution_count": 2,
   "metadata": {},
   "outputs": [
    {
     "name": "stdout",
     "output_type": "stream",
     "text": [
      "<class 'pandas.core.frame.DataFrame'>\n",
      "RangeIndex: 10000 entries, 0 to 9999\n",
      "Data columns (total 17 columns):\n",
      " #   Column                                   Non-Null Count  Dtype  \n",
      "---  ------                                   --------------  -----  \n",
      " 0   Student_ID                               9833 non-null   object \n",
      " 1   Age                                      9807 non-null   float64\n",
      " 2   Gender                                   9830 non-null   object \n",
      " 3   Study_Hours_per_Week                     9830 non-null   float64\n",
      " 4   Preferred_Learning_Style                 9824 non-null   object \n",
      " 5   Online_Courses_Completed                 9833 non-null   float64\n",
      " 6   Participation_in_Discussions             9834 non-null   object \n",
      " 7   Assignment_Completion_Rate (%)           9831 non-null   float64\n",
      " 8   Exam_Score (%)                           9821 non-null   float64\n",
      " 9   Attendance_Rate (%)                      9815 non-null   float64\n",
      " 10  Use_of_Educational_Tech                  9821 non-null   object \n",
      " 11  Self_Reported_Stress_Level               9816 non-null   object \n",
      " 12  Time_Spent_on_Social_Media (hours/week)  9817 non-null   float64\n",
      " 13  Sleep_Hours_per_Night                    9814 non-null   float64\n",
      " 14  Equiv_Grade                              10000 non-null  float64\n",
      " 15  College                                  10000 non-null  object \n",
      " 16  Degree_Program                           10000 non-null  object \n",
      "dtypes: float64(9), object(8)\n",
      "memory usage: 1.3+ MB\n"
     ]
    }
   ],
   "source": [
    "df = pd.read_csv(r\"../dataset/student-record-unclean.csv\",\n",
    "                 delimiter=\",\")\n",
    "df.info()"
   ]
  },
  {
   "cell_type": "code",
   "execution_count": 3,
   "metadata": {},
   "outputs": [
    {
     "data": {
      "text/html": [
       "<div>\n",
       "<style scoped>\n",
       "    .dataframe tbody tr th:only-of-type {\n",
       "        vertical-align: middle;\n",
       "    }\n",
       "\n",
       "    .dataframe tbody tr th {\n",
       "        vertical-align: top;\n",
       "    }\n",
       "\n",
       "    .dataframe thead th {\n",
       "        text-align: right;\n",
       "    }\n",
       "</style>\n",
       "<table border=\"1\" class=\"dataframe\">\n",
       "  <thead>\n",
       "    <tr style=\"text-align: right;\">\n",
       "      <th></th>\n",
       "      <th>Age</th>\n",
       "      <th>Gender</th>\n",
       "      <th>Study_Hours_per_Week</th>\n",
       "      <th>Preferred_Learning_Style</th>\n",
       "      <th>Online_Courses_Completed</th>\n",
       "      <th>Participation_in_Discussions</th>\n",
       "      <th>Assignment_Completion_Rate (%)</th>\n",
       "      <th>Exam_Score (%)</th>\n",
       "      <th>Attendance_Rate (%)</th>\n",
       "      <th>Use_of_Educational_Tech</th>\n",
       "      <th>Self_Reported_Stress_Level</th>\n",
       "      <th>Time_Spent_on_Social_Media (hours/week)</th>\n",
       "      <th>Sleep_Hours_per_Night</th>\n",
       "      <th>Equiv_Grade</th>\n",
       "      <th>College</th>\n",
       "      <th>Degree_Program</th>\n",
       "    </tr>\n",
       "  </thead>\n",
       "  <tbody>\n",
       "    <tr>\n",
       "      <th>0</th>\n",
       "      <td>18.0</td>\n",
       "      <td>Female</td>\n",
       "      <td>48.0</td>\n",
       "      <td>Kinesthetic</td>\n",
       "      <td>14.0</td>\n",
       "      <td>Yes</td>\n",
       "      <td>100.0</td>\n",
       "      <td>69.0</td>\n",
       "      <td>66.0</td>\n",
       "      <td>Yes</td>\n",
       "      <td>High</td>\n",
       "      <td>9.0</td>\n",
       "      <td>8.0</td>\n",
       "      <td>3.885</td>\n",
       "      <td>Engineering</td>\n",
       "      <td>Mechanical</td>\n",
       "    </tr>\n",
       "    <tr>\n",
       "      <th>1</th>\n",
       "      <td>29.0</td>\n",
       "      <td>Female</td>\n",
       "      <td>30.0</td>\n",
       "      <td>Reading/Writing</td>\n",
       "      <td>20.0</td>\n",
       "      <td>No</td>\n",
       "      <td>71.0</td>\n",
       "      <td>40.0</td>\n",
       "      <td>57.0</td>\n",
       "      <td>Yes</td>\n",
       "      <td>Medium</td>\n",
       "      <td>28.0</td>\n",
       "      <td>8.0</td>\n",
       "      <td>2.635</td>\n",
       "      <td>Health Sciences</td>\n",
       "      <td>Nursing</td>\n",
       "    </tr>\n",
       "    <tr>\n",
       "      <th>2</th>\n",
       "      <td>20.0</td>\n",
       "      <td>Female</td>\n",
       "      <td>47.0</td>\n",
       "      <td>Kinesthetic</td>\n",
       "      <td>11.0</td>\n",
       "      <td>No</td>\n",
       "      <td>60.0</td>\n",
       "      <td>43.0</td>\n",
       "      <td>79.0</td>\n",
       "      <td>Yes</td>\n",
       "      <td>Low</td>\n",
       "      <td>13.0</td>\n",
       "      <td>7.0</td>\n",
       "      <td>2.765</td>\n",
       "      <td>Health Sciences</td>\n",
       "      <td>Nursing</td>\n",
       "    </tr>\n",
       "    <tr>\n",
       "      <th>3</th>\n",
       "      <td>23.0</td>\n",
       "      <td>Female</td>\n",
       "      <td>13.0</td>\n",
       "      <td>Auditory</td>\n",
       "      <td>0.0</td>\n",
       "      <td>Yes</td>\n",
       "      <td>63.0</td>\n",
       "      <td>70.0</td>\n",
       "      <td>60.0</td>\n",
       "      <td>Yes</td>\n",
       "      <td>Low</td>\n",
       "      <td>24.0</td>\n",
       "      <td>10.0</td>\n",
       "      <td>3.295</td>\n",
       "      <td>Business and Finance</td>\n",
       "      <td>Accountancy</td>\n",
       "    </tr>\n",
       "    <tr>\n",
       "      <th>4</th>\n",
       "      <td>19.0</td>\n",
       "      <td>Female</td>\n",
       "      <td>24.0</td>\n",
       "      <td>Auditory</td>\n",
       "      <td>19.0</td>\n",
       "      <td>Yes</td>\n",
       "      <td>59.0</td>\n",
       "      <td>63.0</td>\n",
       "      <td>93.0</td>\n",
       "      <td>Yes</td>\n",
       "      <td>Medium</td>\n",
       "      <td>26.0</td>\n",
       "      <td>8.0</td>\n",
       "      <td>3.390</td>\n",
       "      <td>Health Sciences</td>\n",
       "      <td>Pharmacy</td>\n",
       "    </tr>\n",
       "  </tbody>\n",
       "</table>\n",
       "</div>"
      ],
      "text/plain": [
       "    Age  Gender  Study_Hours_per_Week Preferred_Learning_Style  \\\n",
       "0  18.0  Female                  48.0              Kinesthetic   \n",
       "1  29.0  Female                  30.0          Reading/Writing   \n",
       "2  20.0  Female                  47.0              Kinesthetic   \n",
       "3  23.0  Female                  13.0                 Auditory   \n",
       "4  19.0  Female                  24.0                 Auditory   \n",
       "\n",
       "   Online_Courses_Completed Participation_in_Discussions  \\\n",
       "0                      14.0                          Yes   \n",
       "1                      20.0                           No   \n",
       "2                      11.0                           No   \n",
       "3                       0.0                          Yes   \n",
       "4                      19.0                          Yes   \n",
       "\n",
       "   Assignment_Completion_Rate (%)  Exam_Score (%)  Attendance_Rate (%)  \\\n",
       "0                           100.0            69.0                 66.0   \n",
       "1                            71.0            40.0                 57.0   \n",
       "2                            60.0            43.0                 79.0   \n",
       "3                            63.0            70.0                 60.0   \n",
       "4                            59.0            63.0                 93.0   \n",
       "\n",
       "  Use_of_Educational_Tech Self_Reported_Stress_Level  \\\n",
       "0                     Yes                       High   \n",
       "1                     Yes                     Medium   \n",
       "2                     Yes                        Low   \n",
       "3                     Yes                        Low   \n",
       "4                     Yes                     Medium   \n",
       "\n",
       "   Time_Spent_on_Social_Media (hours/week)  Sleep_Hours_per_Night  \\\n",
       "0                                      9.0                    8.0   \n",
       "1                                     28.0                    8.0   \n",
       "2                                     13.0                    7.0   \n",
       "3                                     24.0                   10.0   \n",
       "4                                     26.0                    8.0   \n",
       "\n",
       "   Equiv_Grade               College Degree_Program  \n",
       "0        3.885           Engineering     Mechanical  \n",
       "1        2.635       Health Sciences        Nursing  \n",
       "2        2.765       Health Sciences        Nursing  \n",
       "3        3.295  Business and Finance    Accountancy  \n",
       "4        3.390       Health Sciences       Pharmacy  "
      ]
     },
     "execution_count": 3,
     "metadata": {},
     "output_type": "execute_result"
    }
   ],
   "source": [
    "df = df.drop(df.columns[[0]], axis=1)\n",
    "df.head()"
   ]
  },
  {
   "cell_type": "markdown",
   "metadata": {},
   "source": [
    "Renaming Columns"
   ]
  },
  {
   "cell_type": "code",
   "execution_count": 4,
   "metadata": {},
   "outputs": [
    {
     "name": "stdout",
     "output_type": "stream",
     "text": [
      "<class 'pandas.core.frame.DataFrame'>\n",
      "RangeIndex: 10000 entries, 0 to 9999\n",
      "Data columns (total 16 columns):\n",
      " #   Column          Non-Null Count  Dtype  \n",
      "---  ------          --------------  -----  \n",
      " 0   Age             9807 non-null   float64\n",
      " 1   Gender          9830 non-null   object \n",
      " 2   StudyHrs        9830 non-null   float64\n",
      " 3   Learning_Style  9824 non-null   object \n",
      " 4   Courses_Comp    9833 non-null   float64\n",
      " 5   Discuss_Part    9834 non-null   object \n",
      " 6   AssignRate      9831 non-null   float64\n",
      " 7   Exam_Score(%)   9821 non-null   float64\n",
      " 8   AttendRate      9815 non-null   float64\n",
      " 9   TechUse         9821 non-null   object \n",
      " 10  StressLevel     9816 non-null   object \n",
      " 11  SocMediaHrs     9817 non-null   float64\n",
      " 12  SleepHrs        9814 non-null   float64\n",
      " 13  Equiv_Grade     10000 non-null  float64\n",
      " 14  College         10000 non-null  object \n",
      " 15  Degree_Program  10000 non-null  object \n",
      "dtypes: float64(9), object(7)\n",
      "memory usage: 1.2+ MB\n"
     ]
    }
   ],
   "source": [
    "df_cleaning = df.rename(\n",
    "    columns={\n",
    "        'Study_Hours_per_Week' : 'StudyHrs' ,\n",
    "        'Preferred_Learning_Style' : 'Learning_Style' ,\n",
    "        'Online_Courses_Completed' : 'Courses_Comp' ,\n",
    "        'Participation_in_Discussions' : 'Discuss_Part' ,\n",
    "        'Assignment_Completion_Rate (%)': 'AssignRate' ,\n",
    "        'Exam_Score (%)' : 'Exam_Score(%)' ,\n",
    "        'Attendance_Rate (%)' : 'AttendRate' ,\n",
    "        'Use_of_Educational_Tech' : 'TechUse' ,\n",
    "        'Self_Reported_Stress_Level' : 'StressLevel',\n",
    "        'Time_Spent_on_Social_Media (hours/week)' : 'SocMediaHrs',\n",
    "        'Sleep_Hours_per_Night' : 'SleepHrs'\n",
    "    }\n",
    ")\n",
    "df_cleaning.info()"
   ]
  },
  {
   "cell_type": "markdown",
   "metadata": {},
   "source": [
    "## Determing NaN values"
   ]
  },
  {
   "cell_type": "code",
   "execution_count": 5,
   "metadata": {},
   "outputs": [
    {
     "data": {
      "text/plain": [
       "Age               193\n",
       "Gender            170\n",
       "StudyHrs          170\n",
       "Learning_Style    176\n",
       "Courses_Comp      167\n",
       "Discuss_Part      166\n",
       "AssignRate        169\n",
       "Exam_Score(%)     179\n",
       "AttendRate        185\n",
       "TechUse           179\n",
       "StressLevel       184\n",
       "SocMediaHrs       183\n",
       "SleepHrs          186\n",
       "Equiv_Grade         0\n",
       "College             0\n",
       "Degree_Program      0\n",
       "dtype: int64"
      ]
     },
     "execution_count": 5,
     "metadata": {},
     "output_type": "execute_result"
    }
   ],
   "source": [
    "df_cleaning.isna().sum()"
   ]
  },
  {
   "cell_type": "markdown",
   "metadata": {},
   "source": [
    "## Dropping NaN values <br>\n",
    "<b>Reason:</b> The number of NaN values is very small compared to the total number of rows in the dataset. Hence, dropping the NaN values will not affect the dataset significantly."
   ]
  },
  {
   "cell_type": "code",
   "execution_count": 6,
   "metadata": {},
   "outputs": [
    {
     "data": {
      "text/plain": [
       "Age               0\n",
       "Gender            0\n",
       "StudyHrs          0\n",
       "Learning_Style    0\n",
       "Courses_Comp      0\n",
       "Discuss_Part      0\n",
       "AssignRate        0\n",
       "Exam_Score(%)     0\n",
       "AttendRate        0\n",
       "TechUse           0\n",
       "StressLevel       0\n",
       "SocMediaHrs       0\n",
       "SleepHrs          0\n",
       "Equiv_Grade       0\n",
       "College           0\n",
       "Degree_Program    0\n",
       "dtype: int64"
      ]
     },
     "execution_count": 6,
     "metadata": {},
     "output_type": "execute_result"
    }
   ],
   "source": [
    "# Cleaning NaN values via dropping\n",
    "df_cleaning = df_cleaning.dropna(subset=['Age', 'Gender', 'StudyHrs', 'Learning_Style', \n",
    "                                       'Courses_Comp', 'Discuss_Part', 'AssignRate', \n",
    "                                       'Exam_Score(%)', 'AttendRate', 'TechUse', 'StressLevel', \n",
    "                                       'SocMediaHrs', 'SleepHrs', 'Equiv_Grade'])\n",
    "df_cleaning.isna().sum()"
   ]
  },
  {
   "cell_type": "code",
   "execution_count": 7,
   "metadata": {},
   "outputs": [
    {
     "name": "stdout",
     "output_type": "stream",
     "text": [
      "<class 'pandas.core.frame.DataFrame'>\n",
      "Index: 9629 entries, 0 to 9999\n",
      "Data columns (total 16 columns):\n",
      " #   Column          Non-Null Count  Dtype  \n",
      "---  ------          --------------  -----  \n",
      " 0   Age             9629 non-null   float64\n",
      " 1   Gender          9629 non-null   object \n",
      " 2   StudyHrs        9629 non-null   float64\n",
      " 3   Learning_Style  9629 non-null   object \n",
      " 4   Courses_Comp    9629 non-null   float64\n",
      " 5   Discuss_Part    9629 non-null   object \n",
      " 6   AssignRate      9629 non-null   float64\n",
      " 7   Exam_Score(%)   9629 non-null   float64\n",
      " 8   AttendRate      9629 non-null   float64\n",
      " 9   TechUse         9629 non-null   object \n",
      " 10  StressLevel     9629 non-null   object \n",
      " 11  SocMediaHrs     9629 non-null   float64\n",
      " 12  SleepHrs        9629 non-null   float64\n",
      " 13  Equiv_Grade     9629 non-null   float64\n",
      " 14  College         9629 non-null   object \n",
      " 15  Degree_Program  9629 non-null   object \n",
      "dtypes: float64(9), object(7)\n",
      "memory usage: 1.2+ MB\n"
     ]
    }
   ],
   "source": [
    "df_cleaning.info()"
   ]
  },
  {
   "cell_type": "markdown",
   "metadata": {},
   "source": [
    "## Saving the Cleaned Dataset"
   ]
  },
  {
   "cell_type": "code",
   "execution_count": 8,
   "metadata": {},
   "outputs": [],
   "source": [
    "df_cleaning.to_csv(r\"../dataset/student-record-cleaned.csv\")"
   ]
  }
 ],
 "metadata": {
  "kernelspec": {
   "display_name": "Python 3",
   "language": "python",
   "name": "python3"
  },
  "language_info": {
   "codemirror_mode": {
    "name": "ipython",
    "version": 3
   },
   "file_extension": ".py",
   "mimetype": "text/x-python",
   "name": "python",
   "nbconvert_exporter": "python",
   "pygments_lexer": "ipython3",
   "version": "3.11.9"
  }
 },
 "nbformat": 4,
 "nbformat_minor": 2
}
