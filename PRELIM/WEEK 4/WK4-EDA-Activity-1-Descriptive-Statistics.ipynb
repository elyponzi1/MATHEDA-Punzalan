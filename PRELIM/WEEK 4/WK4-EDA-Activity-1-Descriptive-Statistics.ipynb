{
 "cells": [
  {
   "cell_type": "markdown",
   "metadata": {},
   "source": [
    "# Jaguar and Panther Performance Analysis <hr style=\"border:2.5px solid #126782\">"
   ]
  },
  {
   "cell_type": "markdown",
   "metadata": {},
   "source": [
    "Name: **Ely John C. Punzalan** <br>\n",
    "Course: **CPE2A**"
   ]
  },
  {
   "cell_type": "markdown",
   "metadata": {},
   "source": [
    "import  pandas, numpy, and maplotlib.pyplot"
   ]
  },
  {
   "cell_type": "code",
   "execution_count": 1,
   "metadata": {},
   "outputs": [],
   "source": [
    "import pandas as pd\n",
    "import numpy as np\n",
    "import matplotlib.pyplot as plt"
   ]
  },
  {
   "cell_type": "markdown",
   "metadata": {},
   "source": [
    "Create a **DataFrame** for Jaguar-Panther-Data\""
   ]
  },
  {
   "cell_type": "code",
   "execution_count": 2,
   "metadata": {},
   "outputs": [],
   "source": [
    "df = pd.read_csv('Jaguar-Panther-Data.csv')"
   ]
  },
  {
   "cell_type": "markdown",
   "metadata": {},
   "source": [
    "Display a **concise summary** of the DataFrame"
   ]
  },
  {
   "cell_type": "code",
   "execution_count": 3,
   "metadata": {},
   "outputs": [
    {
     "name": "stdout",
     "output_type": "stream",
     "text": [
      "<class 'pandas.core.frame.DataFrame'>\n",
      "RangeIndex: 30 entries, 0 to 29\n",
      "Data columns (total 3 columns):\n",
      " #   Column   Non-Null Count  Dtype\n",
      "---  ------   --------------  -----\n",
      " 0   Lot_No   30 non-null     int64\n",
      " 1   Jaguar   30 non-null     int64\n",
      " 2   Panther  30 non-null     int64\n",
      "dtypes: int64(3)\n",
      "memory usage: 852.0 bytes\n"
     ]
    }
   ],
   "source": [
    "df.info()"
   ]
  },
  {
   "cell_type": "markdown",
   "metadata": {},
   "source": [
    "Display **summary statistics**"
   ]
  },
  {
   "cell_type": "code",
   "execution_count": 4,
   "metadata": {},
   "outputs": [
    {
     "data": {
      "text/html": [
       "<div>\n",
       "<style scoped>\n",
       "    .dataframe tbody tr th:only-of-type {\n",
       "        vertical-align: middle;\n",
       "    }\n",
       "\n",
       "    .dataframe tbody tr th {\n",
       "        vertical-align: top;\n",
       "    }\n",
       "\n",
       "    .dataframe thead th {\n",
       "        text-align: right;\n",
       "    }\n",
       "</style>\n",
       "<table border=\"1\" class=\"dataframe\">\n",
       "  <thead>\n",
       "    <tr style=\"text-align: right;\">\n",
       "      <th></th>\n",
       "      <th>Lot_No</th>\n",
       "      <th>Jaguar</th>\n",
       "      <th>Panther</th>\n",
       "    </tr>\n",
       "  </thead>\n",
       "  <tbody>\n",
       "    <tr>\n",
       "      <th>count</th>\n",
       "      <td>30.000000</td>\n",
       "      <td>30.000000</td>\n",
       "      <td>30.000000</td>\n",
       "    </tr>\n",
       "    <tr>\n",
       "      <th>mean</th>\n",
       "      <td>15.500000</td>\n",
       "      <td>1087.800000</td>\n",
       "      <td>1005.333333</td>\n",
       "    </tr>\n",
       "    <tr>\n",
       "      <th>std</th>\n",
       "      <td>8.803408</td>\n",
       "      <td>284.165129</td>\n",
       "      <td>166.261392</td>\n",
       "    </tr>\n",
       "    <tr>\n",
       "      <th>min</th>\n",
       "      <td>1.000000</td>\n",
       "      <td>790.000000</td>\n",
       "      <td>590.000000</td>\n",
       "    </tr>\n",
       "    <tr>\n",
       "      <th>25%</th>\n",
       "      <td>8.250000</td>\n",
       "      <td>938.000000</td>\n",
       "      <td>949.500000</td>\n",
       "    </tr>\n",
       "    <tr>\n",
       "      <th>50%</th>\n",
       "      <td>15.500000</td>\n",
       "      <td>998.000000</td>\n",
       "      <td>994.500000</td>\n",
       "    </tr>\n",
       "    <tr>\n",
       "      <th>75%</th>\n",
       "      <td>22.750000</td>\n",
       "      <td>1060.250000</td>\n",
       "      <td>1040.250000</td>\n",
       "    </tr>\n",
       "    <tr>\n",
       "      <th>max</th>\n",
       "      <td>30.000000</td>\n",
       "      <td>1840.000000</td>\n",
       "      <td>1710.000000</td>\n",
       "    </tr>\n",
       "  </tbody>\n",
       "</table>\n",
       "</div>"
      ],
      "text/plain": [
       "          Lot_No       Jaguar      Panther\n",
       "count  30.000000    30.000000    30.000000\n",
       "mean   15.500000  1087.800000  1005.333333\n",
       "std     8.803408   284.165129   166.261392\n",
       "min     1.000000   790.000000   590.000000\n",
       "25%     8.250000   938.000000   949.500000\n",
       "50%    15.500000   998.000000   994.500000\n",
       "75%    22.750000  1060.250000  1040.250000\n",
       "max    30.000000  1840.000000  1710.000000"
      ]
     },
     "execution_count": 4,
     "metadata": {},
     "output_type": "execute_result"
    }
   ],
   "source": [
    "df.describe()"
   ]
  },
  {
   "cell_type": "markdown",
   "metadata": {},
   "source": [
    "# Jaguar Performance Metric Analysis\n",
    "<hr>"
   ]
  },
  {
   "cell_type": "markdown",
   "metadata": {},
   "source": [
    "## Measures of Central Tendency\n",
    "<hr>"
   ]
  },
  {
   "cell_type": "markdown",
   "metadata": {},
   "source": [
    "### Mean"
   ]
  },
  {
   "cell_type": "code",
   "execution_count": 5,
   "metadata": {},
   "outputs": [
    {
     "name": "stdout",
     "output_type": "stream",
     "text": [
      "Jaguar Mean: 1087.8\n"
     ]
    }
   ],
   "source": [
    "jaguar_mean = df['Jaguar'].mean()\n",
    "print(\"Jaguar Mean: \" + str(jaguar_mean))"
   ]
  },
  {
   "cell_type": "markdown",
   "metadata": {},
   "source": [
    "### Median"
   ]
  },
  {
   "cell_type": "code",
   "execution_count": 6,
   "metadata": {},
   "outputs": [
    {
     "name": "stdout",
     "output_type": "stream",
     "text": [
      "Jaguar Median: 998.0\n"
     ]
    }
   ],
   "source": [
    "jaguar_median = df['Jaguar'].median()\n",
    "print(\"Jaguar Median: \" + str(jaguar_median))"
   ]
  },
  {
   "cell_type": "markdown",
   "metadata": {},
   "source": [
    "### Mode"
   ]
  },
  {
   "cell_type": "code",
   "execution_count": 7,
   "metadata": {},
   "outputs": [
    {
     "name": "stdout",
     "output_type": "stream",
     "text": [
      "Jaguar Mode: 997\n"
     ]
    }
   ],
   "source": [
    "jaguar_mode = df['Jaguar'].mode().to_numpy()[0]\n",
    "print(\"Jaguar Mode: \" + str(jaguar_mode))"
   ]
  },
  {
   "cell_type": "markdown",
   "metadata": {},
   "source": [
    "## Measures of Variability\n",
    "<hr>"
   ]
  },
  {
   "cell_type": "markdown",
   "metadata": {},
   "source": [
    "### Range"
   ]
  },
  {
   "cell_type": "code",
   "execution_count": 8,
   "metadata": {},
   "outputs": [
    {
     "name": "stdout",
     "output_type": "stream",
     "text": [
      "Jaguar Range: 1050\n"
     ]
    }
   ],
   "source": [
    "jaguar_range = df['Jaguar'].max() - df['Jaguar'].min()\n",
    "print(\"Jaguar Range: \" + str(jaguar_range))"
   ]
  },
  {
   "cell_type": "markdown",
   "metadata": {},
   "source": [
    "### Variance"
   ]
  },
  {
   "cell_type": "code",
   "execution_count": 9,
   "metadata": {},
   "outputs": [
    {
     "name": "stdout",
     "output_type": "stream",
     "text": [
      "Jaguar Variance: 80749.82\n"
     ]
    }
   ],
   "source": [
    "jaguar_variance = df['Jaguar'].var()\n",
    "print(\"Jaguar Variance: \" + str(jaguar_variance.round(2)))"
   ]
  },
  {
   "cell_type": "markdown",
   "metadata": {},
   "source": [
    "### Standard Deviation"
   ]
  },
  {
   "cell_type": "code",
   "execution_count": 10,
   "metadata": {},
   "outputs": [
    {
     "name": "stdout",
     "output_type": "stream",
     "text": [
      "Jaguar Standard Deviation: 284.17\n"
     ]
    }
   ],
   "source": [
    "jaguar_standev = df['Jaguar'].std()\n",
    "print(\"Jaguar Standard Deviation: \" + str(jaguar_standev.round(2)))"
   ]
  },
  {
   "cell_type": "markdown",
   "metadata": {},
   "source": [
    "### Coefficient of Variation"
   ]
  },
  {
   "cell_type": "code",
   "execution_count": 11,
   "metadata": {},
   "outputs": [
    {
     "name": "stdout",
     "output_type": "stream",
     "text": [
      "Jaguar Coefficient of Variation: 0.26\n"
     ]
    }
   ],
   "source": [
    "jaguar_mean = df['Jaguar'].mean()\n",
    "jaguar_coefvar = jaguar_standev / jaguar_mean\n",
    "print(\"Jaguar Coefficient of Variation: \" + str(jaguar_coefvar.round(2)))"
   ]
  },
  {
   "cell_type": "markdown",
   "metadata": {},
   "source": [
    "## Jaguar Boxplot Presentation\n",
    "<hr>"
   ]
  },
  {
   "cell_type": "code",
   "execution_count": 12,
   "metadata": {},
   "outputs": [
    {
     "data": {
      "image/png": "[encoded data removed]",
      "text/plain": [
       "<Figure size 640x480 with 1 Axes>"
      ]
     },
     "metadata": {},
     "output_type": "display_data"
    }
   ],
   "source": [
    "plt.boxplot(df['Jaguar'])\n",
    "plt.title('Jaguar Perfomance Boxplot')\n",
    "plt.ylabel('Performance Metric')\n",
    "plt.xlabel('Jaguar')\n",
    "plt.xticks([])\n",
    "plt.show()"
   ]
  },
  {
   "cell_type": "markdown",
   "metadata": {},
   "source": [
    "# Panther Performance Metric Analysis \n",
    "<hr>"
   ]
  },
  {
   "cell_type": "markdown",
   "metadata": {},
   "source": [
    "## Measures of Central Tendency\n",
    "<hr>"
   ]
  },
  {
   "cell_type": "markdown",
   "metadata": {},
   "source": [
    "### Mean"
   ]
  },
  {
   "cell_type": "code",
   "execution_count": 13,
   "metadata": {},
   "outputs": [
    {
     "name": "stdout",
     "output_type": "stream",
     "text": [
      "Panther Mean: 1005.33\n"
     ]
    }
   ],
   "source": [
    "panther_mean = df['Panther'].mean()\n",
    "print(\"Panther Mean: \" + str(panther_mean.round(2)))"
   ]
  },
  {
   "cell_type": "markdown",
   "metadata": {},
   "source": [
    "### Median"
   ]
  },
  {
   "cell_type": "code",
   "execution_count": 14,
   "metadata": {},
   "outputs": [
    {
     "name": "stdout",
     "output_type": "stream",
     "text": [
      "Panther Median: 994.5\n"
     ]
    }
   ],
   "source": [
    "panther_median = df['Panther'].median()\n",
    "print(\"Panther Median: \" + str(panther_median))"
   ]
  },
  {
   "cell_type": "markdown",
   "metadata": {},
   "source": [
    "### Mode"
   ]
  },
  {
   "cell_type": "code",
   "execution_count": 15,
   "metadata": {},
   "outputs": [
    {
     "name": "stdout",
     "output_type": "stream",
     "text": [
      "Panther Mode: 1026\n"
     ]
    }
   ],
   "source": [
    "panther_mode = df['Panther'].mode().to_numpy()[0]\n",
    "print(\"Panther Mode: \" + str(panther_mode))"
   ]
  },
  {
   "cell_type": "markdown",
   "metadata": {},
   "source": [
    "## Measures of Variability\n",
    "<hr>"
   ]
  },
  {
   "cell_type": "markdown",
   "metadata": {},
   "source": [
    "### Range"
   ]
  },
  {
   "cell_type": "code",
   "execution_count": 16,
   "metadata": {},
   "outputs": [
    {
     "name": "stdout",
     "output_type": "stream",
     "text": [
      "Panther Range: 1120\n"
     ]
    }
   ],
   "source": [
    "panther_range = df['Panther'].max() - df['Panther'].min()\n",
    "print(\"Panther Range: \" + str(panther_range))"
   ]
  },
  {
   "cell_type": "markdown",
   "metadata": {},
   "source": [
    "### Variance"
   ]
  },
  {
   "cell_type": "code",
   "execution_count": 17,
   "metadata": {},
   "outputs": [
    {
     "name": "stdout",
     "output_type": "stream",
     "text": [
      "Panther Variance: 27642.85\n"
     ]
    }
   ],
   "source": [
    "panther_variance = df['Panther'].var()\n",
    "print(\"Panther Variance: \" + str(panther_variance.round(2)))"
   ]
  },
  {
   "cell_type": "markdown",
   "metadata": {},
   "source": [
    "### Standard Deviation"
   ]
  },
  {
   "cell_type": "code",
   "execution_count": 18,
   "metadata": {},
   "outputs": [
    {
     "name": "stdout",
     "output_type": "stream",
     "text": [
      "Panther Standard Deviation: 166.26\n"
     ]
    }
   ],
   "source": [
    "panther_standev = df['Panther'].std()\n",
    "print(\"Panther Standard Deviation: \" + str(panther_standev.round(2)))"
   ]
  },
  {
   "cell_type": "markdown",
   "metadata": {},
   "source": [
    "### Coefficient of Variance"
   ]
  },
  {
   "cell_type": "code",
   "execution_count": 19,
   "metadata": {},
   "outputs": [
    {
     "name": "stdout",
     "output_type": "stream",
     "text": [
      "Panther Coefficient of Variation: 0.17\n"
     ]
    }
   ],
   "source": [
    "panther_mean = df['Panther'].mean()\n",
    "panther_coefvar = panther_standev / panther_mean\n",
    "print(\"Panther Coefficient of Variation: \" + str(panther_coefvar.round(2)))"
   ]
  },
  {
   "cell_type": "markdown",
   "metadata": {},
   "source": [
    "## Panther Boxplot Presentation \n",
    "<hr>"
   ]
  },
  {
   "cell_type": "code",
   "execution_count": 20,
   "metadata": {},
   "outputs": [
    {
     "data": {
      "image/png": "[encoded data removed]",
      "text/plain": [
       "<Figure size 640x480 with 1 Axes>"
      ]
     },
     "metadata": {},
     "output_type": "display_data"
    }
   ],
   "source": [
    "plt.boxplot(df['Panther'])\n",
    "plt.title('Panther Perfomance Boxplot')\n",
    "plt.ylabel('Performance Metric')\n",
    "plt.xlabel('Panther')\n",
    "plt.xticks([])\n",
    "plt.show()"
   ]
  },
  {
   "cell_type": "markdown",
   "metadata": {},
   "source": [
    "# Hypothesis"
   ]
  },
  {
   "cell_type": "markdown",
   "metadata": {},
   "source": [
    "## Graphical Comparison of Jaguar and Panther\n",
    "<hr>"
   ]
  },
  {
   "cell_type": "markdown",
   "metadata": {},
   "source": [
    "### Boxplot Presentation "
   ]
  },
  {
   "cell_type": "code",
   "execution_count": 21,
   "metadata": {},
   "outputs": [
    {
     "data": {
      "image/png": "[encoded data removed]",
      "text/plain": [
       "<Figure size 1000x600 with 1 Axes>"
      ]
     },
     "metadata": {},
     "output_type": "display_data"
    }
   ],
   "source": [
    "plt.figure(figsize=(10, 6))\n",
    "plt.boxplot([df['Jaguar'], df['Panther']], tick_labels=['Jaguar', 'Panther'], patch_artist=True,\n",
    "            boxprops=dict(facecolor='skyblue', color='black'), \n",
    "            medianprops=dict(color='red'))\n",
    "plt.title('Performance Variability: Jaguar vs. Panther')\n",
    "plt.ylabel('Performance Metric')\n",
    "plt.grid(axis='y', linestyle='--', alpha=0.7)\n",
    "plt.show()"
   ]
  },
  {
   "cell_type": "markdown",
   "metadata": {},
   "source": [
    "### Bar Chart Presentation"
   ]
  },
  {
   "cell_type": "code",
   "execution_count": 22,
   "metadata": {},
   "outputs": [
    {
     "data": {
      "image/png": "[encoded data removed]",
      "text/plain": [
       "<Figure size 1000x600 with 1 Axes>"
      ]
     },
     "metadata": {},
     "output_type": "display_data"
    }
   ],
   "source": [
    "stats = {\n",
    "    \"Metric\": [\"Mean\", \"Standard Deviation\"],\n",
    "    \"Jaguar\": [1087.8, 284.165],\n",
    "    \"Panther\": [1005.33, 166.261]\n",
    "}\n",
    "stats_df = pd.DataFrame(stats)\n",
    "\n",
    "# Bar Chart\n",
    "plt.figure(figsize=(10, 6))\n",
    "bar_width = 0.35\n",
    "index = range(len(stats_df[\"Metric\"]))\n",
    "\n",
    "plt.bar(index, stats_df[\"Jaguar\"], bar_width, label=\"Jaguar\", color='skyblue')\n",
    "plt.bar([i + bar_width for i in index], stats_df[\"Panther\"], bar_width, label=\"Panther\", color='orange')\n",
    "\n",
    "plt.xticks([i + bar_width / 2 for i in index], stats_df[\"Metric\"])\n",
    "plt.title(\"Comparison of Key Metrics: Jaguar vs. Panther\")\n",
    "plt.ylabel(\"Value\")\n",
    "plt.legend()\n",
    "plt.grid(axis='y', linestyle='--', alpha=0.7)\n",
    "plt.show()"
   ]
  },
  {
   "cell_type": "markdown",
   "metadata": {},
   "source": [
    "## **Summary**\n",
    "\n",
    "The performance data for the Jaguar and Panther machines were analyzed based on critical descriptive statistics, including mean, median, mode, range, variance, standard deviation, and coefficient of variation. The analysis highlights significant differences in variability and consistency between the two machines. While both machines have similar central tendencies, Jaguar demonstrates much greater variability compared to Panther, suggesting potential inconsistencies in its operation.\n",
    "\n",
    "<hr>\n",
    "\n",
    "## **Evidence Explanation**\n",
    "### *Jaguar Performance:*\n",
    "\n",
    "<li>The mean performance of Jaguar is 1087.8, slightly higher than Panther's 1005.33.</li>\n",
    "\n",
    "<li>However, Jaguar has a range of 1050 and a standard deviation of 284.165, which are significantly higher than Panther's range of 1120 and standard deviation of 166.261.</li>\n",
    "\n",
    "<li>The coefficient of variation (CV) for Jaguar is 26.1%, indicating a high degree of performance fluctuation relative to its mean. </li>\n",
    "\n",
    "<li>This suggests inconsistent performance, with the machine producing both high and low outputs across observations.</li>\n",
    "\n",
    "### *Panther Performance:*\n",
    "\n",
    "<li>Panther has a mean of 1005.33 and a median of 994.5, close to each other, indicating a more symmetric and consistent distribution.</li>\n",
    "\n",
    "<li>The variance and standard deviation for Panther are much lower than those for Jaguar, at 27642.9 and 166.261, respectively.</li>\n",
    "\n",
    "<li>With a CV of 16.6%, Panther's performance is more stable and predictable compared to Jaguar.</li>\n",
    "\n",
    "### *Key Observations:*\n",
    "<li>Although the means of both machines are relatively close, the variability metrics (range, standard deviation, and CV) indicate that Jaguar has higher fluctuations, likely influenced by operational inconsistencies or external factors.</li>\n",
    "\n",
    "<li>Panther, on the other hand, demonstrates tighter performance clustering around its mean, making it more reliable for precision-focused production.</li>\n",
    "\n",
    "<hr>\n",
    "\n",
    "## **Conclusion**\n",
    "\n",
    "The Jaguar machine's performance is more variable and less predictable compared to the Panther machine. While it achieves slightly higher average output, its high range and variability could result in inconsistent production quality. The Panther machine offers more stable performance, as shown by its lower coefficient of variation and standard deviation. \n",
    "\n",
    "Based on this analysis, Jaguar may require further investigation into its operation, such as routine maintenance, calibration, or environmental checks, to minimize variability and improve consistency. Panther is recommended for tasks requiring reliability and consistent output.\n",
    "\n",
    "<hr>"
   ]
  }
 ],
 "metadata": {
  "kernelspec": {
   "display_name": "Python 3",
   "language": "python",
   "name": "python3"
  },
  "language_info": {
   "codemirror_mode": {
    "name": "ipython",
    "version": 3
   },
   "file_extension": ".py",
   "mimetype": "text/x-python",
   "name": "python",
   "nbconvert_exporter": "python",
   "pygments_lexer": "ipython3",
   "version": "3.11.9"
  }
 },
 "nbformat": 4,
 "nbformat_minor": 2
}
